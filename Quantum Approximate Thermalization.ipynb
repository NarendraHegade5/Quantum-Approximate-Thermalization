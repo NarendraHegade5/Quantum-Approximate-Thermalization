{
 "cells": [
  {
   "cell_type": "markdown",
   "metadata": {},
   "source": [
    "# Quantum Approximate Thermalization [[1](#1)]\n",
    "\n",
    "There have been many machine learning applications where annealers has been seen to perform the task quite well, but an open ended question remained whether or not near-term circuit model quantum computers would be able to accomplish similar tasks. \n",
    "\n",
    "In regard to this Quantum Boltzmann Machines were proposed. These are a type of neural network model in which a network of spins representing bits of data are typically trained to associate a low-energy to the spin representations of a training data-set distribution. The approaches to train these Boltzmann machine rely on\n",
    "variationally optimizing the network’s energy function. This could be done by employing quantum approximate optimization algorithm (QAOA) as a subroutine on shallow circuits in order to approximately sample from Gibbs states of Ising Hamiltonians and then using it for training."
   ]
  },
  {
   "cell_type": "markdown",
   "metadata": {},
   "source": [
    "The protocal begins with the preparation of the state $| \\psi_{0} \\rangle =\\sqrt{2 \\cosh \\frac{1}{T}} \\sum_{\\pm} e^{- \\frac{\\pm }{2T}} |\\pm  \\rangle_{\\mathcal{H_1}} \\otimes | \\pm  \\rangle_{\\mathcal{H_2}}$ where $\\mathcal{H_1}$ is our current Hilbert space and $\\mathcal{H_2}$ is the hilbert such that $| \\psi_{0} \\rangle \\in \\mathcal{H_1} \\otimes \\mathcal{H_2}$ and allows purification of $\\rho = \\textrm{Tr}_{\\mathcal{H_2}} \\left( |\\psi \\rangle \\langle \\psi | \\right)$, in the larger Hilbert space.\n",
    "\n",
    "In essence, we are marginalizing the probability distribution by tracing out a subsystem of the maximally entangled state to get a thermal state at infinite temperature.\n",
    "\n",
    "Since state preparation needs low constant depth, it turns out to be quite efficient. In fact, a circuit composed uniquely of RX gates and CNOT gates can be used for it. It can then be shown that by tracing this state over the environment qubits, one recovers the thermal state of $H_M$ , i.e.\n",
    "$e^{−\\beta H_{M}}/tr(e^{−\\beta H_{M}})$.\n"
   ]
  },
  {
   "cell_type": "code",
   "execution_count": 1,
   "metadata": {
    "ExecuteTime": {
     "end_time": "2018-11-19T20:11:13.926133Z",
     "start_time": "2018-11-19T20:11:12.766644Z"
    }
   },
   "outputs": [],
   "source": [
    "# Libraries Import\n",
    "import itertools\n",
    "import numpy as np\n",
    "from functools import reduce, partial\n",
    "from scipy.optimize import minimize\n",
    "import matplotlib.pyplot as plt\n",
    "%matplotlib inline\n",
    "\n",
    "# Qiskit \n",
    "from qiskit import BasicAer, QuantumRegister, QuantumCircuit, ClassicalRegister\n",
    "from qiskit import execute\n",
    "from qiskit.quantum_info import Pauli\n",
    "from qiskit.aqua import get_aer_backend, QuantumInstance, Operator\n",
    "from qiskit.aqua.components.initial_states import Custom\n",
    "backend = BasicAer.get_backend('qasm_simulator')"
   ]
  },
  {
   "cell_type": "code",
   "execution_count": 2,
   "metadata": {
    "ExecuteTime": {
     "end_time": "2018-11-19T20:11:13.932601Z",
     "start_time": "2018-11-19T20:11:13.928400Z"
    }
   },
   "outputs": [],
   "source": [
    "class QAT:\n",
    "    def __init__(self, num_qubit, temp, weights, qaoa_step=1):\n",
    "        self.num_qubits = num_qubit\n",
    "        self.num_system = num_qubit*2\n",
    "        self.T = temp\n",
    "        self.weights = weights\n",
    "        self.p = qaoa_step\n",
    "        self.Hc = None\n",
    "        self.Hm = None\n",
    "        self.qr = None\n",
    "        self.cr = None\n",
    "\n",
    "    def pauli_x(self, qubit, coeff):\n",
    "        return Operator([[coeff, Pauli(np.zeros(self.num_qubits), np.eye((self.num_qubits))[qubit])]])\n",
    "\n",
    "    def product_pauli_z(self, q1, q2, coeff):\n",
    "        return Operator([[coeff, Pauli(np.eye((self.num_system))[q1], np.zeros(self.num_system)) * \\\n",
    "                      Pauli(np.eye((self.num_system))[q2], np.zeros(self.num_system))]])\n",
    "\n",
    "    def ising_hamiltonian(self):\n",
    "        Hc = reduce(lambda x,y:x+y,\n",
    "                [self.product_pauli_z(i,j, -self.weights[i,j])\n",
    "                for (i,j) in itertools.product(range(self.num_qubits), range(self.num_qubits))])\n",
    "        \n",
    "        Hm = reduce(lambda x, y: x+y,\n",
    "                [self.pauli_x(i, 1) for i in range(self.num_qubits)])\n",
    "        \n",
    "        Hc.to_matrix(), \n",
    "        Hm.to_matrix()\n",
    "        return Hc, Hm\n",
    "    \n",
    "    def prepare_init_state(self):\n",
    "        self.qr = QuantumRegister(self.num_system)\n",
    "        self.cr = ClassicalRegister(self.num_qubits)\n",
    "        circuit_init = QuantumCircuit(self.qr, self.cr)\n",
    "        for i in range(self.num_qubits):\n",
    "            circuit_init.rx( 2 * np.arctan(np.exp(- 1/self.T)), self.num_qubits+i)\n",
    "            circuit_init.cx(self.num_qubits+i, i)\n",
    "        return circuit_init\n",
    "    \n",
    "    def evolve(self, hamiltonian, angle, quantum_registers):\n",
    "        return hamiltonian.evolve(None, angle, 'circuit', 1, quantum_registers=quantum_registers,\n",
    "                                  expansion_mode='suzuki', expansion_order=3)\n",
    "        \n",
    "    def evaluate_circuit(self, beta_gamma, circuit_init):\n",
    "        p = len(beta_gamma)//2\n",
    "        beta = beta_gamma[:p]; gamma = beta_gamma[p:]\n",
    "        #print(self.Hc, self.Hm)\n",
    "        circuit = circuit_init + reduce(lambda x,y: x+y, [self.evolve(self.Hc, beta[i], self.qr) + \\\n",
    "                                self.evolve(self.Hm, gamma[i], self.qr) for i in range(p)])\n",
    "        return np.real(self.Hc.eval(\"matrix\", circuit, get_aer_backend('statevector_simulator'))[0])\n",
    "    \n",
    "    def get_thermal_state(self):\n",
    "        #print(self.ising_hamiltonian())\n",
    "        self.Hc, self.Hm = self.ising_hamiltonian()\n",
    "        #print(self.Hc,self.Hm)\n",
    "        circuit_init = self.prepare_init_state()\n",
    "        beta_init = np.random.uniform(0, np.pi*2, self.p)\n",
    "        gamma_init = np.random.uniform(0, np.pi*2, self.p)   \n",
    "        evaluate = partial(self.evaluate_circuit, circuit_init=circuit_init)\n",
    "        result = minimize(evaluate, np.concatenate([beta_init, gamma_init]), method='L-BFGS-B')\n",
    "        beta = result['x'][:self.p]; gamma = result['x'][self.p:]\n",
    "        circuit = circuit_init + reduce(lambda x,y: x+y, [self.evolve(self.Hc, beta[i], self.qr) + \\\n",
    "                                self.evolve(self.Hm, gamma[i], self.qr) for i in range(p)])\n",
    "        return result[\"fun\"], circuit\n",
    "\n",
    "    def get_energy(self, spin_configuration):\n",
    "        x = spin_configuration.reshape(-1, 1)\n",
    "        return np.sum([[-self.weights[i,j] * x[i] * x[j] \\\n",
    "                        for j in range(self.num_qubits)] for i in range(self.num_qubits)])\n",
    "\n",
    "    def get_energy_distribution(self, thermal_state):\n",
    "        for i in range(self.num_qubits):\n",
    "            thermal_state.measure(self.qr[i], self.cr[i])\n",
    "            job = execute(thermal_state, backend, shots=1000)\n",
    "        results = job.result().get_counts(thermal_state)\n",
    "    \n",
    "        list_spin_configs = np.array(np.concatenate([[list(spin_config)] *\\\n",
    "                                                     results[spin_config] \\\n",
    "                                                     for spin_config in results]), dtype=\"int\")\n",
    "        list_spin_configs[list_spin_configs == 0] = -1\n",
    "        list_energy = np.array([self.get_energy(spin_config) for spin_config in list_spin_configs])\n",
    "        return list_energy"
   ]
  },
  {
   "cell_type": "code",
   "execution_count": 3,
   "metadata": {
    "ExecuteTime": {
     "end_time": "2018-11-19T20:11:13.948745Z",
     "start_time": "2018-11-19T20:11:13.937892Z"
    }
   },
   "outputs": [
    {
     "data": {
      "image/png": "[encoded data removed]",
      "text/plain": [
       "<Figure size 432x288 with 1 Axes>"
      ]
     },
     "metadata": {
      "needs_background": "light"
     },
     "output_type": "display_data"
    }
   ],
   "source": [
    "if __name__ == \"__main__\":\n",
    "    weights = np.array([[0,1,0],[0,0,1],[0,0,1]])\n",
    "    p = 5\n",
    "    r = QAT(3, 1000, weights, p)\n",
    "    cost, thermal_state = r.get_thermal_state()\n",
    "    hist = plt.hist(r.get_energy_distribution(thermal_state), density=True)"
   ]
  },
  {
   "cell_type": "markdown",
   "metadata": {
    "collapsed": true
   },
   "source": [
    "# References\n",
    "\n",
    "[1] Verdon, G., Broughton, M., Biamonte, J. (2017) [A quantum algorithm to train neural networks using low-depth circuits](https://arxiv.org/abs/1712.05304). *arXiv:1712.05304*. <a id='1'></a>"
   ]
  }
 ],
 "metadata": {
  "kernelspec": {
   "display_name": "Python 3",
   "language": "python",
   "name": "python3"
  },
  "language_info": {
   "codemirror_mode": {
    "name": "ipython",
    "version": 3
   },
   "file_extension": ".py",
   "mimetype": "text/x-python",
   "name": "python",
   "nbconvert_exporter": "python",
   "pygments_lexer": "ipython3",
   "version": "3.6.7"
  }
 },
 "nbformat": 4,
 "nbformat_minor": 2
}
